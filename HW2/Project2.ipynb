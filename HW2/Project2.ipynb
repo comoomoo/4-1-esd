{
  "nbformat": 4,
  "nbformat_minor": 0,
  "metadata": {
    "colab": {
      "private_outputs": true,
      "provenance": [],
      "gpuType": "T4"
    },
    "kernelspec": {
      "name": "python3",
      "display_name": "Python 3"
    },
    "language_info": {
      "name": "python"
    },
    "accelerator": "GPU"
  },
  "cells": [
    {
      "cell_type": "code",
      "source": [
        "!pip install idx2numpy"
      ],
      "metadata": {
        "id": "0JPPRUGe8w_h"
      },
      "execution_count": null,
      "outputs": []
    },
    {
      "cell_type": "code",
      "source": [
        "from google.colab import drive\n",
        "drive.mount('/content/drive')"
      ],
      "metadata": {
        "id": "vabeOR3nFKN5"
      },
      "execution_count": null,
      "outputs": []
    },
    {
      "cell_type": "code",
      "execution_count": null,
      "metadata": {
        "id": "frZpBQeRcrYL"
      },
      "outputs": [],
      "source": [
        "import tensorflow as tf\n",
        "import numpy as np\n",
        "import pandas as pd\n",
        "import matplotlib.pyplot as plt\n",
        "import idx2numpy"
      ]
    },
    {
      "cell_type": "code",
      "source": [
        "x_train_file = '/content/drive/MyDrive/emnist/emnist-letters-train-images-idx3-ubyte'\n",
        "y_train_file = '/content/drive/MyDrive/emnist/emnist-letters-train-labels-idx1-ubyte'\n",
        "x_test_file = '/content/drive/MyDrive/emnist/emnist-letters-test-images-idx3-ubyte'\n",
        "y_test_file = '/content/drive/MyDrive/emnist/emnist-letters-test-labels-idx1-ubyte'\n",
        "#위의 코드에서 에러 발생시 아래 코드의 주석을 지우고 실행\n",
        "#x_train_file = '/content/Drive/MyDrive/emnist/emnist-letters-train-images-idx3-ubyte'\n",
        "#y_train_file = '/content/Drive/MyDrive/emnist/emnist-letters-train-labels-idx1-ubyte'\n",
        "#x_test_file = '/content/Drive/MyDrive/emnist/emnist-letters-test-images-idx3-ubyte'\n",
        "#y_test_file = '/content/Drive/MyDrive/emnist/emnist-letters-test-labels-idx1-ubyte'\n",
        "\n",
        "x_train = idx2numpy.convert_from_file(x_train_file)\n",
        "y_train = idx2numpy.convert_from_file(y_train_file)\n",
        "x_test = idx2numpy.convert_from_file(x_test_file)\n",
        "y_test = idx2numpy.convert_from_file(y_test_file)"
      ],
      "metadata": {
        "id": "PEKbZP9yg70H"
      },
      "execution_count": null,
      "outputs": []
    },
    {
      "cell_type": "code",
      "source": [
        "print(x_train.shape)\n",
        "print(x_test.shape)"
      ],
      "metadata": {
        "id": "GUz8zKxmHfQV"
      },
      "execution_count": null,
      "outputs": []
    },
    {
      "cell_type": "code",
      "source": [
        "print(\"Y[0] : \",  y_train[0])\n",
        "plt.imshow(x_train[0], cmap=plt.cm.gray_r, interpolation = \"nearest\")"
      ],
      "metadata": {
        "id": "3SY3f97hSoAo"
      },
      "execution_count": null,
      "outputs": []
    },
    {
      "cell_type": "code",
      "source": [
        "x_train=x_train/255\n",
        "x_test=x_test/255\n",
        "\n",
        "#array NumPy\n",
        "x_train = np.array(x_train).reshape(-1, 28, 28, 1)\n",
        "x_test =  np.array(x_test).reshape(-1, 28, 28, 1)\n",
        "print(x_train.shape)\n",
        "print(x_test.shape)\n",
        "\n",
        "\n",
        "y_train = tf.keras.utils.to_categorical(y_train)\n",
        "y_test = tf.keras.utils.to_categorical(y_test)\n",
        "y_train = y_train[..., :26]\n",
        "y_test = y_test[..., :26]"
      ],
      "metadata": {
        "id": "qypQNsWcRYPt"
      },
      "execution_count": null,
      "outputs": []
    },
    {
      "cell_type": "code",
      "source": [
        "#y_train = tf.keras.utils.to_categorical(y_train)\n",
        "#y_test = tf.keras.utils.to_categorical(y_test)\n",
        "\n",
        "#y_train = y_train[..., :26]\n",
        "#y_test = y_test[..., :26]"
      ],
      "metadata": {
        "id": "Aq3kY11qeQ7D"
      },
      "execution_count": null,
      "outputs": []
    },
    {
      "cell_type": "code",
      "source": [
        "cnn= tf.keras.models.Sequential()\n",
        "cnn.add(tf.keras.layers.Conv2D(filters=32, kernel_size=(5,5), padding='same', activation='tanh', input_shape=(28, 28, 1)))\n",
        "cnn.add(tf.keras.layers.MaxPooling2D(strides=2))\n",
        "cnn.add(tf.keras.layers.Conv2D(filters=48, kernel_size=(5,5), padding='same', activation='tanh'))\n",
        "cnn.add(tf.keras.layers.MaxPooling2D( strides=2))\n",
        "cnn.add(tf.keras.layers.Conv2D(filters=64, kernel_size=(5,5), padding='same', activation='tanh'))\n",
        "cnn.add(tf.keras.layers.Flatten())\n",
        "# cnn.add(tf.keras.layers.Dense(512, activation='tanh'))\n",
        "# cnn.add(tf.keras.layers.Dense(84, activation='tanh'))\n",
        "cnn.add(tf.keras.layers.Dense(26, activation='softmax'))\n",
        "\n",
        "#optimazer\n",
        "opt=tf.keras.optimizers.Adam(learning_rate=1e-4)\n",
        "\n",
        "#Let's compile the model before training.\n",
        "cnn.compile(optimizer=opt,\n",
        "                   loss='categorical_crossentropy',\n",
        "                   metrics=['accuracy'])\n",
        "\n",
        "cnn.summary()\n",
        "\n",
        "tf.keras.utils.plot_model(cnn, \"model.png\", show_shapes=True)"
      ],
      "metadata": {
        "id": "E_TQMrNEI2Mv"
      },
      "execution_count": null,
      "outputs": []
    },
    {
      "cell_type": "code",
      "source": [
        "print(cnn.output_shape)"
      ],
      "metadata": {
        "id": "yjQPWH36Si7C"
      },
      "execution_count": null,
      "outputs": []
    },
    {
      "cell_type": "code",
      "source": [
        "keras_callbacks = [\n",
        "    tf.keras.callbacks.EarlyStopping(monitor='val_loss', patience=5, verbose=1, min_delta=0.001)\n",
        "]\n",
        "\n",
        "history = cnn.fit(x_train, y_train, epochs=100, batch_size=64, verbose=1,\n",
        "                    validation_split=0.2, callbacks=keras_callbacks)"
      ],
      "metadata": {
        "id": "HYtcPQSrGyBU"
      },
      "execution_count": null,
      "outputs": []
    },
    {
      "cell_type": "code",
      "source": [
        "cnn.evaluate(x_test, y_test, verbose=2)"
      ],
      "metadata": {
        "id": "cmtyHqy_jCHx"
      },
      "execution_count": null,
      "outputs": []
    },
    {
      "cell_type": "code",
      "source": [
        "#양자화없이 Lite로 변환\n",
        "converter = tf.lite.TFLiteConverter.from_keras_model(cnn)\n",
        "tflite_model = converter.convert()\n",
        "open(\"model.tflite\", \"wb\").write(tflite_model)\n",
        "#양자화해서 Lite로 변환\n",
        "converter = tf.lite.TFLiteConverter.from_keras_model(cnn)\n",
        "converter.optimizations = [tf.lite.Optimize.DEFAULT]\n",
        "converter.target_spec.supported_types = [tf.float16]\n",
        "tflite_model = converter.convert()\n",
        "open(\"model_quantized.tflite\", \"wb\").write(tflite_model)"
      ],
      "metadata": {
        "id": "VxfAdMS3JcVL"
      },
      "execution_count": null,
      "outputs": []
    },
    {
      "cell_type": "code",
      "source": [
        "# xxd를 사용할 수 없을 경우, 설치한다.\n",
        "!apt-get -qq install xxd\n",
        "# 파일을 C 소스파일로 저장\n",
        "!xxd -i model.tflite > model.cc\n",
        "# 소스파일을 출력\n",
        "!cat model.cc\n",
        "# 파일을 C 소스파일로 저장\n",
        "!xxd -i model_quantized.tflite > model_quantized.cc\n",
        "# 소스파일을 출력\n",
        "!cat model_quantized.cc"
      ],
      "metadata": {
        "id": "UEQPtPcBNIGw"
      },
      "execution_count": null,
      "outputs": []
    },
    {
      "cell_type": "code",
      "source": [],
      "metadata": {
        "id": "rqHmp29W2ZM-"
      },
      "execution_count": null,
      "outputs": []
    }
  ]
}